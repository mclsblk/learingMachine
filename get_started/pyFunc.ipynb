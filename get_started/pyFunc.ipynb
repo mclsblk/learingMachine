{
 "cells": [
  {
   "cell_type": "code",
   "execution_count": null,
   "metadata": {},
   "outputs": [],
   "source": [
    "a,b = (1,2)\n",
    "print(a,b)\n",
    "stringa = \"a\"\n",
    "strb = str(\"a\")\n",
    "print(repr(stringa))\n",
    "mf=7\n",
    "ml=[1,22,3,6,78]\n",
    "print(ml)\n",
    "ml.append(4)\n",
    "ml.extend('3')\n",
    "print(ml)\n",
    "del ml[-1]\n",
    "print(ml)\n",
    "del ml[0]\n",
    "print(ml)\n",
    "if 9 not in ml:\n",
    "    print(\":::\")\n",
    "\n",
    "ml.sort()\n",
    "print(ml)\n",
    "ml.remove(22)\n",
    "print(ml)\n",
    "ml.reverse()\n",
    "print(ml)\n",
    "mla = list(reversed(ml))\n",
    "print(mla)\n",
    "mlb = mla[::-1]\n",
    "print(mlb)\n",
    "ml.count(7)\n",
    "len(ml)\n"
   ]
  },
  {
   "cell_type": "code",
   "execution_count": null,
   "metadata": {},
   "outputs": [],
   "source": [
    "\n",
    "from random import shuffle\n",
    "shuffle(ml)\n",
    "print(ml)\n",
    "a=\"a\\n\"\"n\"\n",
    "b='c;l'\n",
    "c=a+b\n",
    "print(c)\n",
    "c = c[::2]\n",
    "print(c)\n",
    "abb = \"1\" + \"23\"\n",
    "print(abb)\n",
    "print(abb.index('1'))\n",
    "if abb.isdigit():\n",
    "    print(\"a\")\n",
    "else:\n",
    "    print(\"b\")\n",
    "\n",
    "if abb.startswith(\"1\"):\n",
    "    print(\"se\")\n",
    "xx = \"foo,bar\"\n",
    "print(\" \".join([x.capitalize() for x in \"yo yo yo\".split()]))\n",
    "number = 123\n",
    "print(\"{number}\".format(number=number))\n",
    "\n",
    "print(\"this is shit\".find(\"shit\"))"
   ]
  },
  {
   "cell_type": "code",
   "execution_count": null,
   "metadata": {},
   "outputs": [],
   "source": [
    "primes = [2, 3, 5, 7]\n",
    "for prime in primes:\n",
    "    print(prime)\n",
    "\n",
    "count = 0\n",
    "while count < 5:\n",
    "    print(count)\n",
    "    count += 1\n",
    "else:\n",
    "    print(\"count value reached %d\" % (count))\n",
    "import functools\n",
    "from functools import partial\n",
    "\n",
    "add_two_numbers = lambda x, y: x + y\n",
    "add_x_to_5 = functools.partial(add_two_numbers, 5)\n",
    "print(add_x_to_5(3))\n",
    "\n",
    "add_two_numbers = lambda x, y: x + y\n",
    "add_x_to_5 = lambda x: add_two_numbers(x, 5)\n",
    "print(add_x_to_5(3))\n",
    "\n",
    "add_two_numbers = lambda x, y: x + y\n",
    "def add_x_to_5(x):\n",
    "    return add_two_numbers(x, 5)\n",
    "print(add_x_to_5(3))\n"
   ]
  },
  {
   "cell_type": "code",
   "execution_count": null,
   "metadata": {},
   "outputs": [],
   "source": [
    "class test:\n",
    "    name = \"alex\"\n",
    "    year = 19\n",
    "\n",
    "Alex = test()\n",
    "print(Alex.name)\n"
   ]
  }
 ],
 "metadata": {
  "kernelspec": {
   "display_name": "pytorch",
   "language": "python",
   "name": "python3"
  },
  "language_info": {
   "name": "python",
   "version": "3.9.13"
  }
 },
 "nbformat": 4,
 "nbformat_minor": 2
}
