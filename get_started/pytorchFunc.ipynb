{
 "cells": [
  {
   "cell_type": "code",
   "execution_count": null,
   "metadata": {},
   "outputs": [],
   "source": [
    "import torch\n",
    "import torch.nn as nn\n",
    "\n",
    "import transformers\n",
    "from transformers import AutoTokenizer, pipeline\n",
    "\n",
    "print(torch.__version__)\n",
    "print(torch.cuda.is_available())"
   ]
  },
  {
   "cell_type": "code",
   "execution_count": null,
   "metadata": {},
   "outputs": [],
   "source": [
    "bert_path = \"D:\\miniconda3\\_transformers_add\"\n",
    "\n",
    "token1 = AutoTokenizer.from_pretrained(bert_path)\n",
    "\n",
    "model = \"D:\\miniconda3\\_llama3.2_1B_add\"\n",
    "\n",
    "token2 = AutoTokenizer.from_pretrained(model)\n",
    "\n",
    "model = transformers.AutoModelForCausalLM.from_pretrained(model)\n"
   ]
  },
  {
   "cell_type": "code",
   "execution_count": null,
   "metadata": {},
   "outputs": [],
   "source": [
    "input_encoded = token1('text',return_tensors=\"pt\")\n",
    "input_cn_encoded = token1(\"我吃喝玩乐\", return_tensors=\"pt\")\n",
    "input_cn_encoded_1 = token2(\"我吃喝玩乐\", return_tensors=\"pt\")"
   ]
  },
  {
   "cell_type": "code",
   "execution_count": null,
   "metadata": {},
   "outputs": [],
   "source": [
    "print(input_encoded)\n",
    "print(input_cn_encoded)\n",
    "print(input_cn_encoded_1)"
   ]
  },
  {
   "cell_type": "code",
   "execution_count": null,
   "metadata": {},
   "outputs": [],
   "source": [
    "input = torch.randn(3,4,5)\n",
    "print(input.shape)"
   ]
  },
  {
   "cell_type": "code",
   "execution_count": null,
   "metadata": {},
   "outputs": [],
   "source": [
    "print(input)\n",
    "print(input.mean(-1,False))\n",
    "print(input.mean(-1,True))"
   ]
  },
  {
   "cell_type": "code",
   "execution_count": null,
   "metadata": {},
   "outputs": [],
   "source": [
    "dim = 128\n",
    "len = 5\n",
    "pe = torch.zeros(len, dim)\n",
    "\n",
    "pos = torch.arange(0, len, dtype=torch.int32)\n",
    "\n",
    "print(pos)\n",
    "\n"
   ]
  },
  {
   "cell_type": "code",
   "execution_count": null,
   "metadata": {},
   "outputs": [],
   "source": [
    "x = torch.randn(3,5)\n",
    "w = torch.randn(5,9)\n",
    "\n",
    "print(x.shape)\n",
    "print(w.shape)\n",
    "\n",
    "z = x@w\n",
    "\n",
    "print(\"\\n\", z.shape)"
   ]
  },
  {
   "cell_type": "code",
   "execution_count": null,
   "metadata": {},
   "outputs": [],
   "source": [
    "x = torch.randn(3,5)\n",
    "w = torch.randn(5,9)\n",
    "t = nn.Linear(5,7,bias=False)\n",
    "\n",
    "ouput = t(x)\n",
    "print(ouput.shape)\n",
    "\n",
    "print(t.weight.dtype, t.weight.device)\n",
    "\n",
    "tn = t.float()\n",
    "\n",
    "print(x.dtype, t.weight.dtype)"
   ]
  },
  {
   "cell_type": "code",
   "execution_count": null,
   "metadata": {},
   "outputs": [],
   "source": [
    "conv = nn.Conv2d(3,20,5)\n",
    "\n",
    "x1 = torch.ones(1,3,50,50)\n",
    "\n",
    "print(x1.shape)\n",
    "\n",
    "y = conv(x1)\n",
    "\n",
    "print(y.shape)"
   ]
  },
  {
   "cell_type": "code",
   "execution_count": null,
   "metadata": {},
   "outputs": [],
   "source": [
    "x = torch.randn(2, 2, 10, 5)\n",
    "linear_layer = nn.Linear(5, 3)\n",
    "print(linear_layer.weight.shape)\n",
    "print(linear_layer.bias.shape)"
   ]
  },
  {
   "cell_type": "code",
   "execution_count": null,
   "metadata": {},
   "outputs": [],
   "source": [
    "y = linear_layer(x)\n",
    "print(y.shape)"
   ]
  },
  {
   "cell_type": "code",
   "execution_count": null,
   "metadata": {},
   "outputs": [],
   "source": [
    "y1 = x.matmul(linear_layer.weight.t())\n",
    "y2 = y1.add(linear_layer.bias)\n",
    "print(y1[0,0,0,:])\n",
    "print(y2[0,0,0,:])\n",
    "print(y[0,0,0,:])\n",
    "print(y.add(1)[0,0,0,:])"
   ]
  }
 ],
 "metadata": {
  "kernelspec": {
   "display_name": "Python 3",
   "language": "python",
   "name": "python3"
  },
  "language_info": {
   "codemirror_mode": {
    "name": "ipython",
    "version": 3
   },
   "file_extension": ".py",
   "mimetype": "text/x-python",
   "name": "python",
   "nbconvert_exporter": "python",
   "pygments_lexer": "ipython3",
   "version": "3.9.13"
  }
 },
 "nbformat": 4,
 "nbformat_minor": 2
}
